{
 "cells": [
  {
   "cell_type": "code",
   "execution_count": 1,
   "id": "b453cda3",
   "metadata": {},
   "outputs": [],
   "source": [
    "import pandas as pd\n",
    "import pylab as plt \n",
    "import seaborn as sns\n",
    "import numpy as np\n",
    "import math\n",
    "from sklearn.feature_selection import SelectKBest, chi2\n",
    "from sklearn.linear_model import LinearRegression, LogisticRegression\n",
    "from sklearn.metrics import accuracy_score, classification_report, confusion_matrix\n",
    "from sklearn.model_selection import train_test_split"
   ]
  },
  {
   "cell_type": "code",
   "execution_count": 2,
   "id": "db6eb1e7",
   "metadata": {},
   "outputs": [
    {
     "data": {
      "text/html": [
       "<div>\n",
       "<style scoped>\n",
       "    .dataframe tbody tr th:only-of-type {\n",
       "        vertical-align: middle;\n",
       "    }\n",
       "\n",
       "    .dataframe tbody tr th {\n",
       "        vertical-align: top;\n",
       "    }\n",
       "\n",
       "    .dataframe thead th {\n",
       "        text-align: right;\n",
       "    }\n",
       "</style>\n",
       "<table border=\"1\" class=\"dataframe\">\n",
       "  <thead>\n",
       "    <tr style=\"text-align: right;\">\n",
       "      <th></th>\n",
       "      <th>GENERE</th>\n",
       "      <th>ETA</th>\n",
       "      <th>SETTOREECONOMICODETTAGLIO</th>\n",
       "      <th>TITOLOSTUDIO</th>\n",
       "      <th>CONTRATTO</th>\n",
       "      <th>MODALITALAVORO</th>\n",
       "      <th>PROVINCIAIMPRESA</th>\n",
       "      <th>YEAR</th>\n",
       "      <th>TIPO</th>\n",
       "      <th>NAZIONE</th>\n",
       "    </tr>\n",
       "  </thead>\n",
       "  <tbody>\n",
       "    <tr>\n",
       "      <th>0</th>\n",
       "      <td>F</td>\n",
       "      <td>49</td>\n",
       "      <td>Rifugi di montagna</td>\n",
       "      <td>LICENZA MEDIA</td>\n",
       "      <td>LAVORO INTERMITTENTE</td>\n",
       "      <td>NON DEFINITO</td>\n",
       "      <td>BERGAMO</td>\n",
       "      <td>2021</td>\n",
       "      <td>ATTIVATO</td>\n",
       "      <td>ITALIA</td>\n",
       "    </tr>\n",
       "    <tr>\n",
       "      <th>1</th>\n",
       "      <td>M</td>\n",
       "      <td>16</td>\n",
       "      <td>Costruzione di strade, autostrade e piste aero...</td>\n",
       "      <td>LICENZA MEDIA</td>\n",
       "      <td>LAVORO A TEMPO DETERMINATO</td>\n",
       "      <td>TEMPO PIENO</td>\n",
       "      <td>BERGAMO</td>\n",
       "      <td>2021</td>\n",
       "      <td>ATTIVATO</td>\n",
       "      <td>ITALIA</td>\n",
       "    </tr>\n",
       "    <tr>\n",
       "      <th>2</th>\n",
       "      <td>M</td>\n",
       "      <td>19</td>\n",
       "      <td>Ristorazione con somministrazione</td>\n",
       "      <td>LICENZA MEDIA</td>\n",
       "      <td>LAVORO INTERMITTENTE</td>\n",
       "      <td>NON DEFINITO</td>\n",
       "      <td>BERGAMO</td>\n",
       "      <td>2021</td>\n",
       "      <td>ATTIVATO</td>\n",
       "      <td>ITALIA</td>\n",
       "    </tr>\n",
       "  </tbody>\n",
       "</table>\n",
       "</div>"
      ],
      "text/plain": [
       "  GENERE  ETA                          SETTOREECONOMICODETTAGLIO  \\\n",
       "0      F   49                                 Rifugi di montagna   \n",
       "1      M   16  Costruzione di strade, autostrade e piste aero...   \n",
       "2      M   19                  Ristorazione con somministrazione   \n",
       "\n",
       "    TITOLOSTUDIO                   CONTRATTO MODALITALAVORO PROVINCIAIMPRESA  \\\n",
       "0  LICENZA MEDIA        LAVORO INTERMITTENTE   NON DEFINITO          BERGAMO   \n",
       "1  LICENZA MEDIA  LAVORO A TEMPO DETERMINATO    TEMPO PIENO          BERGAMO   \n",
       "2  LICENZA MEDIA        LAVORO INTERMITTENTE   NON DEFINITO          BERGAMO   \n",
       "\n",
       "   YEAR      TIPO NAZIONE  \n",
       "0  2021  ATTIVATO  ITALIA  \n",
       "1  2021  ATTIVATO  ITALIA  \n",
       "2  2021  ATTIVATO  ITALIA  "
      ]
     },
     "execution_count": 2,
     "metadata": {},
     "output_type": "execute_result"
    }
   ],
   "source": [
    "Labor_Market_ds = pd.read_csv('Labor_Market_Data_Cleaning.csv')\n",
    "Labor_Market_ds.head(3)"
   ]
  },
  {
   "cell_type": "code",
   "execution_count": 3,
   "id": "4b54831f",
   "metadata": {},
   "outputs": [],
   "source": [
    "#Delete the column \"YEAR\" from the dataset\n",
    "Labor_Market_ds_new =Labor_Market_ds.drop(['YEAR'], axis=1)"
   ]
  },
  {
   "cell_type": "markdown",
   "id": "2e6b3dce",
   "metadata": {},
   "source": [
    "## Data Transformation\n",
    "### Provinces Transformation"
   ]
  },
  {
   "cell_type": "code",
   "execution_count": 4,
   "id": "877ed4c5",
   "metadata": {},
   "outputs": [
    {
     "data": {
      "text/plain": [
       "array(['MILANO', 'VARESE', 'SONDRIO'], dtype=object)"
      ]
     },
     "execution_count": 4,
     "metadata": {},
     "output_type": "execute_result"
    }
   ],
   "source": [
    "#Extraction of data relating to the provinces of Sondrio, Milan and Varese \n",
    "dfinale=Labor_Market_ds_new.apply(lambda row: row[Labor_Market_ds_new['PROVINCIAIMPRESA'].isin(['SONDRIO','VARESE','MILANO'])])\n",
    "dfinale.PROVINCIAIMPRESA.unique()"
   ]
  },
  {
   "cell_type": "code",
   "execution_count": 5,
   "id": "41103d3d",
   "metadata": {},
   "outputs": [],
   "source": [
    "#Obtained data are mapped to associate different values to each category\n",
    "scale_mapper = {'MILANO': 0, \n",
    "                'VARESE': 1,\n",
    "                'SONDRIO': 2,\n",
    "               }"
   ]
  },
  {
   "cell_type": "code",
   "execution_count": 6,
   "id": "af63d04f",
   "metadata": {},
   "outputs": [],
   "source": [
    "#New column containing related integer values is created \n",
    "dfinale['SCALEPROVINCIA'] = dfinale['PROVINCIAIMPRESA'].replace(scale_mapper)"
   ]
  },
  {
   "cell_type": "markdown",
   "id": "4b04361f",
   "metadata": {},
   "source": [
    "### Provinces Transformation"
   ]
  },
  {
   "cell_type": "code",
   "execution_count": 7,
   "id": "3712c58e",
   "metadata": {},
   "outputs": [
    {
     "data": {
      "text/plain": [
       "['ITALIA', 'EGITTO', 'ROMANIA', 'ALBANIA', 'MAROCCO']"
      ]
     },
     "execution_count": 7,
     "metadata": {},
     "output_type": "execute_result"
    }
   ],
   "source": [
    "#Sorting of data relating to workers of the 5 most populous nations \n",
    "aa = dfinale.groupby('NAZIONE').NAZIONE.count().sort_values(ascending=False).head().index.tolist()\n",
    "aa"
   ]
  },
  {
   "cell_type": "code",
   "execution_count": 8,
   "id": "0dc85a23",
   "metadata": {},
   "outputs": [],
   "source": [
    "#Extraction of data relating to workers of the 5 most populous nations \n",
    "dfinale= dfinale.apply(lambda row: row[Labor_Market_ds_new['NAZIONE'].isin(aa)])"
   ]
  },
  {
   "cell_type": "code",
   "execution_count": 9,
   "id": "75258785",
   "metadata": {},
   "outputs": [],
   "source": [
    "#Obtained data are mapped to associate different values to each category\n",
    "scale_mapper = {'ITALIA': 0, \n",
    "                'EGITTO': 1,\n",
    "                'ROMANIA': 2,\n",
    "                'ALBANIA': 3,\n",
    "                'MAROCCO': 4, \n",
    "               }"
   ]
  },
  {
   "cell_type": "code",
   "execution_count": 10,
   "id": "f4d06db6",
   "metadata": {},
   "outputs": [
    {
     "data": {
      "text/plain": [
       "array([0, 2, 1, 4, 3], dtype=int64)"
      ]
     },
     "execution_count": 10,
     "metadata": {},
     "output_type": "execute_result"
    }
   ],
   "source": [
    "#New column containing related integer values is created\n",
    "dfinale['SCALENAZIONE'] = dfinale['NAZIONE'].replace(scale_mapper)\n",
    "dfinale.SCALENAZIONE.unique()"
   ]
  },
  {
   "cell_type": "code",
   "execution_count": 11,
   "id": "758d6e19",
   "metadata": {},
   "outputs": [],
   "source": [
    "dfinale.reset_index(inplace=True, drop=True)"
   ]
  },
  {
   "cell_type": "markdown",
   "id": "a6da3f22",
   "metadata": {},
   "source": [
    "### Contract Type Transformation"
   ]
  },
  {
   "cell_type": "code",
   "execution_count": 12,
   "id": "e26dba99",
   "metadata": {},
   "outputs": [
    {
     "data": {
      "text/plain": [
       "array(['TIROCINIO', 'LAVORO A TEMPO DETERMINATO',\n",
       "       'LAVORO A TEMPO INDETERMINATO', 'LAVORO INTERMITTENTE',\n",
       "       'LAVORO DOMESTICO', 'LAVORO A TEMPO DETERMINATO  PER SOSTITUZIONE',\n",
       "       'APPRENDISTATO PROFESSIONALIZZANTE O CONTRATTO DI MESTIERE',\n",
       "       'COLLABORAZIONE COORDINATA E CONTINUATIVA',\n",
       "       'CONTRATTI DI BORSA LAVORO E ALTRE WORK EXPERIENCES',\n",
       "       'APPRENDISTATO PER LA QUALIFICA E PER IL DIPLOMA PROFESSIONALE, IL DIPLOMA DI ISTRUZIONE SECONDARIA SUPERIORE E IL CERTIFICATO DI SPECIALIZZAZIONE TECNICA SUPERIORE',\n",
       "       'LAVORO AUTONOMO NELLO SPETTACOLO',\n",
       "       'LAVORO O ATTIVITÀ SOCIALMENTE UTILE (LSU - ASU)',\n",
       "       'LAVORO A DOMICILIO',\n",
       "       'Lavoro a tempo indeterminato con piattaforma',\n",
       "       'CONTRATTO DI FORMAZIONE LAVORO (SOLO PUBBLICA AMMINISTRAZIONE)',\n",
       "       'CONTRATTO DI AGENZIA',\n",
       "       'Lavoro a tempo determinato per sostituzione con piattaforma',\n",
       "       'APPRENDISTATO DI ALTA FORMAZIONE E RICERCA',\n",
       "       'Lavoro a tempo determinato con piattaforma',\n",
       "       'LAVORO CONGIUNTO IN AGRICOLTURA', 'LAVORO RIPARTITO',\n",
       "       'ASSOCIAZIONE IN PARTECIPAZIONE'], dtype=object)"
      ]
     },
     "execution_count": 12,
     "metadata": {},
     "output_type": "execute_result"
    }
   ],
   "source": [
    "#Searching different type of the Contract\n",
    "dfinale.CONTRATTO.unique()"
   ]
  },
  {
   "cell_type": "code",
   "execution_count": 13,
   "id": "eb876445",
   "metadata": {},
   "outputs": [],
   "source": [
    "#Obtained data are mapped to associate different values to each category\n",
    "scale_mapper = {'LAVORO A TEMPO DETERMINATO': 0, \n",
    "                'LAVORO A TEMPO DETERMINATO  PER SOSTITUZIONE': 0,\n",
    "                'Lavoro a tempo determinato con piattaforma': 0,\n",
    "                'Lavoro a tempo determinato per sostituzione con piattaforma': 0,\n",
    "                'LAVORO A TEMPO INDETERMINATO': 1,\n",
    "                'Lavoro a tempo indeterminato con piattaforma': 1,\n",
    "                'APPRENDISTATO DI ALTA FORMAZIONE E RICERCA': 2,\n",
    "                'APPRENDISTATO PER LA QUALIFICA E PER IL DIPLOMA PROFESSIONALE, IL DIPLOMA DI ISTRUZIONE SECONDARIA SUPERIORE E IL CERTIFICATO DI SPECIALIZZAZIONE TECNICA SUPERIORE': 2,\n",
    "                'APPRENDISTATO PROFESSIONALIZZANTE O CONTRATTO DI MESTIERE': 2,\n",
    "                'TIROCINIO': 3,\n",
    "                'LAVORO INTERMITTENTE': 3,\n",
    "                'LAVORO DOMESTICO': 3,\n",
    "                'COLLABORAZIONE COORDINATA E CONTINUATIVA': 3,\n",
    "                'CONTRATTI DI BORSA LAVORO E ALTRE WORK EXPERIENCES': 3,\n",
    "                'LAVORO AUTONOMO NELLO SPETTACOLO': 3,\n",
    "                'LAVORO O ATTIVITÀ SOCIALMENTE UTILE (LSU - ASU)': 3,\n",
    "                'LAVORO A DOMICILIO': 3,\n",
    "                'CONTRATTO DI FORMAZIONE LAVORO (SOLO PUBBLICA AMMINISTRAZIONE)': 3,\n",
    "                'CONTRATTO DI AGENZIA': 3,\n",
    "                'LAVORO CONGIUNTO IN AGRICOLTURA': 3,\n",
    "                'LAVORO RIPARTITO': 3,\n",
    "                'ASSOCIAZIONE IN PARTECIPAZIONE': 3,\n",
    "               }"
   ]
  },
  {
   "cell_type": "code",
   "execution_count": 14,
   "id": "45d695ce",
   "metadata": {},
   "outputs": [
    {
     "data": {
      "text/plain": [
       "array([3, 0, 1, 2], dtype=int64)"
      ]
     },
     "execution_count": 14,
     "metadata": {},
     "output_type": "execute_result"
    }
   ],
   "source": [
    "#New column containing related integer values is created\n",
    "dfinale['SCALECONTRATTO'] = dfinale['CONTRATTO'].replace(scale_mapper)\n",
    "dfinale.SCALECONTRATTO.unique()"
   ]
  },
  {
   "cell_type": "markdown",
   "id": "13135e39",
   "metadata": {},
   "source": [
    "### Economic Sector Transformation"
   ]
  },
  {
   "cell_type": "code",
   "execution_count": 15,
   "id": "0449ae8d",
   "metadata": {},
   "outputs": [
    {
     "data": {
      "text/plain": [
       "SETTOREECONOMICODETTAGLIO\n",
       "Attività di produzione cinematografica, di video e di programmi televisivi    33247\n",
       "Ristorazione con somministrazione                                             22369\n",
       "Pulizia generale (non specializzata) di edifici                               21026\n",
       "Costruzione di edifici residenziali e non residenziali                        18776\n",
       "Servizi logistici relativi alla distribuzione delle merci                     18262\n",
       "Name: SETTOREECONOMICODETTAGLIO, dtype: int64"
      ]
     },
     "execution_count": 15,
     "metadata": {},
     "output_type": "execute_result"
    }
   ],
   "source": [
    "#Searching different type of the Economic Sector\n",
    "dfinale.groupby('SETTOREECONOMICODETTAGLIO').SETTOREECONOMICODETTAGLIO.count().sort_values(ascending=False).head()"
   ]
  },
  {
   "cell_type": "code",
   "execution_count": 16,
   "id": "c77f5d07",
   "metadata": {},
   "outputs": [],
   "source": [
    "#Obtained data are mapped to associate different values to each category\n",
    "scale_mapper = {'Attività di produzione cinematografica, di video e di programmi televisivi': 0, \n",
    "                'Ristorazione con somministrazione': 1,\n",
    "                'Pulizia generale (non specializzata) di edifici': 2,\n",
    "                'Costruzione di edifici residenziali e non residenziali': 3,\n",
    "                'Servizi logistici relativi alla distribuzione delle merci': 4, \n",
    "               }"
   ]
  },
  {
   "cell_type": "code",
   "execution_count": 17,
   "id": "4996c58a",
   "metadata": {},
   "outputs": [
    {
     "data": {
      "text/plain": [
       "array([3, 2, 1, 4, 0], dtype=object)"
      ]
     },
     "execution_count": 17,
     "metadata": {},
     "output_type": "execute_result"
    }
   ],
   "source": [
    "#New column containing related integer values is created\n",
    "dfinale['SCALESETTORE'] = dfinale['SETTOREECONOMICODETTAGLIO'].replace(scale_mapper)\n",
    "dfinale = dfinale.apply(lambda row: row[dfinale['SCALESETTORE'].isin([0,1,2,3,4])])\n",
    "dfinale.SCALESETTORE.unique()"
   ]
  },
  {
   "cell_type": "markdown",
   "id": "e435ec6d",
   "metadata": {},
   "source": [
    "### Labor Type Transformation"
   ]
  },
  {
   "cell_type": "code",
   "execution_count": 18,
   "id": "a56bc8a4",
   "metadata": {},
   "outputs": [
    {
     "data": {
      "text/plain": [
       "TIPO\n",
       "ATTIVATO       65276\n",
       "CESSATO        14191\n",
       "PROROGATO      20966\n",
       "TRASFORMATO    13247\n",
       "Name: TIPO, dtype: int64"
      ]
     },
     "execution_count": 18,
     "metadata": {},
     "output_type": "execute_result"
    }
   ],
   "source": [
    "#Searching different type of the Labor Type\n",
    "dfinale.groupby('TIPO').TIPO.count()"
   ]
  },
  {
   "cell_type": "code",
   "execution_count": 19,
   "id": "4b8e075d",
   "metadata": {},
   "outputs": [],
   "source": [
    "#Obtained data are mapped to associate different values to each category\n",
    "scale_mapper = {'ATTIVATO': 0, \n",
    "                'CESSATO': 1,\n",
    "                'PROROGATO': 2,\n",
    "                'TRASFORMATO': 3,\n",
    "               }"
   ]
  },
  {
   "cell_type": "code",
   "execution_count": 20,
   "id": "79912e47",
   "metadata": {},
   "outputs": [
    {
     "data": {
      "text/plain": [
       "array([0, 1, 2, 3], dtype=int64)"
      ]
     },
     "execution_count": 20,
     "metadata": {},
     "output_type": "execute_result"
    }
   ],
   "source": [
    "#New column containing related integer values is created\n",
    "dfinale['SCALETIPO'] = dfinale['TIPO'].replace(scale_mapper)\n",
    "dfinale.SCALETIPO.unique()"
   ]
  },
  {
   "cell_type": "markdown",
   "id": "00cfc6dd",
   "metadata": {},
   "source": [
    "### Labor Modality Transformation"
   ]
  },
  {
   "cell_type": "code",
   "execution_count": 21,
   "id": "a5e47d8c",
   "metadata": {},
   "outputs": [
    {
     "data": {
      "text/plain": [
       "MODALITALAVORO\n",
       "NON DEFINITO                  10418\n",
       "TEMPO PARZIALE MISTO           5866\n",
       "TEMPO PARZIALE ORIZZONTALE    28765\n",
       "TEMPO PARZIALE VERTICALE       1778\n",
       "TEMPO PIENO                   66853\n",
       "Name: MODALITALAVORO, dtype: int64"
      ]
     },
     "execution_count": 21,
     "metadata": {},
     "output_type": "execute_result"
    }
   ],
   "source": [
    "#Searching different type of the Labor Type\n",
    "dfinale.groupby('MODALITALAVORO').MODALITALAVORO.count()"
   ]
  },
  {
   "cell_type": "code",
   "execution_count": 22,
   "id": "ec251fb0",
   "metadata": {},
   "outputs": [],
   "source": [
    "#Obtained data are mapped to associate different values to each category\n",
    "scale_mapper = {'NON DEFINITO': 0, \n",
    "                'TEMPO PARZIALE MISTO': 1,\n",
    "                'TEMPO PARZIALE ORIZZONTALE': 2,\n",
    "                'TEMPO PARZIALE VERTICALE': 3,\n",
    "                'TEMPO PIENO': 4,\n",
    "               }"
   ]
  },
  {
   "cell_type": "code",
   "execution_count": 23,
   "id": "57d642e5",
   "metadata": {
    "scrolled": true
   },
   "outputs": [],
   "source": [
    "#New column containing related integer values is created\n",
    "dfinale['SCALEMOD'] = dfinale['MODALITALAVORO'].replace(scale_mapper)"
   ]
  },
  {
   "cell_type": "markdown",
   "id": "3aa626a3",
   "metadata": {},
   "source": [
    "### Gender Transformation"
   ]
  },
  {
   "cell_type": "code",
   "execution_count": 24,
   "id": "736c0295",
   "metadata": {},
   "outputs": [],
   "source": [
    "#Obtained data are mapped to associate different values to each category\n",
    "scale_mapper = {'F': 0, \n",
    "                'M': 1,\n",
    "               }"
   ]
  },
  {
   "cell_type": "code",
   "execution_count": 25,
   "id": "6510ccd0",
   "metadata": {},
   "outputs": [],
   "source": [
    "#New column containing related integer values is created\n",
    "dfinale['SCALEGENERE'] = dfinale['GENERE'].replace(scale_mapper)"
   ]
  },
  {
   "cell_type": "code",
   "execution_count": 26,
   "id": "3c904cd5",
   "metadata": {},
   "outputs": [],
   "source": [
    "dfinale.reset_index(inplace=True, drop=True)"
   ]
  },
  {
   "cell_type": "markdown",
   "id": "3890195a",
   "metadata": {},
   "source": [
    "### Age Transformation and Study Title Transfomation "
   ]
  },
  {
   "cell_type": "code",
   "execution_count": 27,
   "id": "cc1952e2",
   "metadata": {},
   "outputs": [
    {
     "name": "stderr",
     "output_type": "stream",
     "text": [
      "C:\\Users\\daddc\\anaconda3\\envs\\Ambiente\\lib\\site-packages\\pandas\\core\\indexing.py:1732: SettingWithCopyWarning: \n",
      "A value is trying to be set on a copy of a slice from a DataFrame\n",
      "\n",
      "See the caveats in the documentation: https://pandas.pydata.org/pandas-docs/stable/user_guide/indexing.html#returning-a-view-versus-a-copy\n",
      "  self._setitem_single_block(indexer, value, name)\n"
     ]
    }
   ],
   "source": [
    "dfinale['SCALETA'] = 0\n",
    "dfinale['SCALETITOLO'] = 0\n",
    "for i in range(dfinale.ETA.size):\n",
    "    if dfinale['ETA'].loc[i] < 40:  dfinale['SCALETA'].loc[i]= 0\n",
    "    elif dfinale['ETA'].loc[i]>= 40 and dfinale['ETA'].loc[i]< 55: dfinale['SCALETA'].loc[i]= 1\n",
    "    else : dfinale['SCALETA'].loc[i]= 2\n",
    "\n",
    "    if dfinale['TITOLOSTUDIO'].loc[i] == 'NESSUN TITOLO DI STUDIO':  dfinale['SCALETITOLO'].loc[i]= 0\n",
    "    elif dfinale['TITOLOSTUDIO'].loc[i] == 'LICENZA ELEMENTARE' : dfinale['SCALETITOLO'].loc[i]= 1\n",
    "    elif dfinale['TITOLOSTUDIO'].loc[i] == 'LICENZA MEDIA' :  dfinale['SCALETITOLO'].loc[i]= 2  \n",
    "    elif dfinale['TITOLOSTUDIO'].loc[i] == \"DIPLOMA DI ISTRUZIONE SECONDARIA SUPERIORE  CHE PERMETTE L'ACCESSO ALL'UNIVERSITA\" or dfinale['TITOLOSTUDIO'].loc[i] == \"TITOLO DI ISTRUZIONE SECONDARIA SUPERIORE (SCOLASTICA ED EXTRA-SCOLASTICA) CHE NON PERMETTE L'ACCESSO ALL'UNIVERSITÀ ()\":  dfinale['SCALETITOLO'].loc[i]= 3\n",
    "    else : dfinale['SCALETITOLO'].loc[i]= 4        "
   ]
  },
  {
   "cell_type": "code",
   "execution_count": 28,
   "id": "81fa2798",
   "metadata": {},
   "outputs": [],
   "source": [
    "#Creation of the final Prediction Matrix\n",
    "preparedf= dfinale[['SCALEGENERE','SCALETA','SCALESETTORE','SCALETITOLO','SCALECONTRATTO','SCALEMOD','SCALEPROVINCIA','SCALETIPO','SCALENAZIONE']]"
   ]
  },
  {
   "cell_type": "code",
   "execution_count": 29,
   "id": "03f2cc52",
   "metadata": {},
   "outputs": [
    {
     "data": {
      "text/html": [
       "<div>\n",
       "<style scoped>\n",
       "    .dataframe tbody tr th:only-of-type {\n",
       "        vertical-align: middle;\n",
       "    }\n",
       "\n",
       "    .dataframe tbody tr th {\n",
       "        vertical-align: top;\n",
       "    }\n",
       "\n",
       "    .dataframe thead th {\n",
       "        text-align: right;\n",
       "    }\n",
       "</style>\n",
       "<table border=\"1\" class=\"dataframe\">\n",
       "  <thead>\n",
       "    <tr style=\"text-align: right;\">\n",
       "      <th></th>\n",
       "      <th>SCALEGENERE</th>\n",
       "      <th>SCALETA</th>\n",
       "      <th>SCALESETTORE</th>\n",
       "      <th>SCALETITOLO</th>\n",
       "      <th>SCALECONTRATTO</th>\n",
       "      <th>SCALEMOD</th>\n",
       "      <th>SCALEPROVINCIA</th>\n",
       "      <th>SCALETIPO</th>\n",
       "      <th>SCALENAZIONE</th>\n",
       "    </tr>\n",
       "  </thead>\n",
       "  <tbody>\n",
       "    <tr>\n",
       "      <th>0</th>\n",
       "      <td>1</td>\n",
       "      <td>1</td>\n",
       "      <td>3</td>\n",
       "      <td>0</td>\n",
       "      <td>0</td>\n",
       "      <td>4</td>\n",
       "      <td>0</td>\n",
       "      <td>0</td>\n",
       "      <td>2</td>\n",
       "    </tr>\n",
       "    <tr>\n",
       "      <th>1</th>\n",
       "      <td>1</td>\n",
       "      <td>0</td>\n",
       "      <td>3</td>\n",
       "      <td>0</td>\n",
       "      <td>0</td>\n",
       "      <td>4</td>\n",
       "      <td>0</td>\n",
       "      <td>0</td>\n",
       "      <td>1</td>\n",
       "    </tr>\n",
       "    <tr>\n",
       "      <th>2</th>\n",
       "      <td>1</td>\n",
       "      <td>0</td>\n",
       "      <td>3</td>\n",
       "      <td>0</td>\n",
       "      <td>1</td>\n",
       "      <td>2</td>\n",
       "      <td>0</td>\n",
       "      <td>0</td>\n",
       "      <td>1</td>\n",
       "    </tr>\n",
       "    <tr>\n",
       "      <th>3</th>\n",
       "      <td>0</td>\n",
       "      <td>1</td>\n",
       "      <td>2</td>\n",
       "      <td>2</td>\n",
       "      <td>0</td>\n",
       "      <td>4</td>\n",
       "      <td>0</td>\n",
       "      <td>0</td>\n",
       "      <td>0</td>\n",
       "    </tr>\n",
       "    <tr>\n",
       "      <th>4</th>\n",
       "      <td>1</td>\n",
       "      <td>0</td>\n",
       "      <td>1</td>\n",
       "      <td>0</td>\n",
       "      <td>3</td>\n",
       "      <td>0</td>\n",
       "      <td>0</td>\n",
       "      <td>0</td>\n",
       "      <td>2</td>\n",
       "    </tr>\n",
       "    <tr>\n",
       "      <th>...</th>\n",
       "      <td>...</td>\n",
       "      <td>...</td>\n",
       "      <td>...</td>\n",
       "      <td>...</td>\n",
       "      <td>...</td>\n",
       "      <td>...</td>\n",
       "      <td>...</td>\n",
       "      <td>...</td>\n",
       "      <td>...</td>\n",
       "    </tr>\n",
       "    <tr>\n",
       "      <th>113675</th>\n",
       "      <td>1</td>\n",
       "      <td>0</td>\n",
       "      <td>4</td>\n",
       "      <td>0</td>\n",
       "      <td>0</td>\n",
       "      <td>4</td>\n",
       "      <td>0</td>\n",
       "      <td>3</td>\n",
       "      <td>2</td>\n",
       "    </tr>\n",
       "    <tr>\n",
       "      <th>113676</th>\n",
       "      <td>1</td>\n",
       "      <td>1</td>\n",
       "      <td>1</td>\n",
       "      <td>0</td>\n",
       "      <td>0</td>\n",
       "      <td>2</td>\n",
       "      <td>0</td>\n",
       "      <td>3</td>\n",
       "      <td>0</td>\n",
       "    </tr>\n",
       "    <tr>\n",
       "      <th>113677</th>\n",
       "      <td>0</td>\n",
       "      <td>0</td>\n",
       "      <td>1</td>\n",
       "      <td>3</td>\n",
       "      <td>0</td>\n",
       "      <td>4</td>\n",
       "      <td>0</td>\n",
       "      <td>3</td>\n",
       "      <td>0</td>\n",
       "    </tr>\n",
       "    <tr>\n",
       "      <th>113678</th>\n",
       "      <td>0</td>\n",
       "      <td>0</td>\n",
       "      <td>4</td>\n",
       "      <td>0</td>\n",
       "      <td>0</td>\n",
       "      <td>4</td>\n",
       "      <td>0</td>\n",
       "      <td>3</td>\n",
       "      <td>2</td>\n",
       "    </tr>\n",
       "    <tr>\n",
       "      <th>113679</th>\n",
       "      <td>0</td>\n",
       "      <td>0</td>\n",
       "      <td>1</td>\n",
       "      <td>2</td>\n",
       "      <td>2</td>\n",
       "      <td>2</td>\n",
       "      <td>0</td>\n",
       "      <td>3</td>\n",
       "      <td>0</td>\n",
       "    </tr>\n",
       "  </tbody>\n",
       "</table>\n",
       "<p>113680 rows × 9 columns</p>\n",
       "</div>"
      ],
      "text/plain": [
       "        SCALEGENERE  SCALETA SCALESETTORE  SCALETITOLO  SCALECONTRATTO  \\\n",
       "0                 1        1            3            0               0   \n",
       "1                 1        0            3            0               0   \n",
       "2                 1        0            3            0               1   \n",
       "3                 0        1            2            2               0   \n",
       "4                 1        0            1            0               3   \n",
       "...             ...      ...          ...          ...             ...   \n",
       "113675            1        0            4            0               0   \n",
       "113676            1        1            1            0               0   \n",
       "113677            0        0            1            3               0   \n",
       "113678            0        0            4            0               0   \n",
       "113679            0        0            1            2               2   \n",
       "\n",
       "        SCALEMOD  SCALEPROVINCIA  SCALETIPO  SCALENAZIONE  \n",
       "0              4               0          0             2  \n",
       "1              4               0          0             1  \n",
       "2              2               0          0             1  \n",
       "3              4               0          0             0  \n",
       "4              0               0          0             2  \n",
       "...          ...             ...        ...           ...  \n",
       "113675         4               0          3             2  \n",
       "113676         2               0          3             0  \n",
       "113677         4               0          3             0  \n",
       "113678         4               0          3             2  \n",
       "113679         2               0          3             0  \n",
       "\n",
       "[113680 rows x 9 columns]"
      ]
     },
     "execution_count": 29,
     "metadata": {},
     "output_type": "execute_result"
    }
   ],
   "source": [
    "preparedf"
   ]
  },
  {
   "cell_type": "code",
   "execution_count": 30,
   "id": "44618cf9",
   "metadata": {},
   "outputs": [],
   "source": [
    "#Creation of the final Prediction Matrix DataSet\n",
    "preparedf.to_csv('Labor_Market_Data_Transforming.csv', index = False, header = True)"
   ]
  }
 ],
 "metadata": {
  "kernelspec": {
   "display_name": "Python 3",
   "language": "python",
   "name": "python3"
  },
  "language_info": {
   "codemirror_mode": {
    "name": "ipython",
    "version": 3
   },
   "file_extension": ".py",
   "mimetype": "text/x-python",
   "name": "python",
   "nbconvert_exporter": "python",
   "pygments_lexer": "ipython3",
   "version": "3.8.11"
  }
 },
 "nbformat": 4,
 "nbformat_minor": 5
}
